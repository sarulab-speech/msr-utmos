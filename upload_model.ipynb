{
 "cells": [
  {
   "cell_type": "code",
   "execution_count": 1,
   "id": "78dd3a0d",
   "metadata": {},
   "outputs": [
    {
     "name": "stderr",
     "output_type": "stream",
     "text": [
      "/work/gj18/e43001/github.com/sfi-utmos/.venv/lib/python3.12/site-packages/tqdm/auto.py:21: TqdmWarning: IProgress not found. Please update jupyter and ipywidgets. See https://ipywidgets.readthedocs.io/en/stable/user_install.html\n",
      "  from .autonotebook import tqdm as notebook_tqdm\n"
     ]
    }
   ],
   "source": [
    "from sfi_utmos.model.distill_ssl import DistillSSL"
   ]
  },
  {
   "cell_type": "code",
   "execution_count": 2,
   "id": "e505852c",
   "metadata": {},
   "outputs": [],
   "source": [
    "model = DistillSSL.load_from_checkpoint(\n",
    "    \"/work/gj18/e43001/github.com/sfi-utmos/lightning_logs/version_18/checkpoints/epoch=104-step=203595.ckpt\"\n",
    ")"
   ]
  },
  {
   "cell_type": "code",
   "execution_count": 6,
   "id": "974f06f5",
   "metadata": {},
   "outputs": [],
   "source": [
    "model.student_model.set_sample_rate(24000)"
   ]
  },
  {
   "cell_type": "code",
   "execution_count": 10,
   "id": "c033fd1d",
   "metadata": {},
   "outputs": [
    {
     "name": "stderr",
     "output_type": "stream",
     "text": [
      "model.safetensors: 100%|██████████| 379M/379M [00:14<00:00, 26.2MB/s] \n"
     ]
    },
    {
     "data": {
      "text/plain": [
       "CommitInfo(commit_url='https://huggingface.co/Wataru/sfi_hubert_distill_ears/commit/754679d10081da0a7bdfbc15ec0cbf9b410a611e', commit_message='Upload model', commit_description='', oid='754679d10081da0a7bdfbc15ec0cbf9b410a611e', pr_url=None, repo_url=RepoUrl('https://huggingface.co/Wataru/sfi_hubert_distill_ears', endpoint='https://huggingface.co', repo_type='model', repo_id='Wataru/sfi_hubert_distill_ears'), pr_revision=None, pr_num=None)"
      ]
     },
     "execution_count": 10,
     "metadata": {},
     "output_type": "execute_result"
    }
   ],
   "source": [
    "model.student_model.push_to_hub(\"Wataru/sfi_hubert_distill_ears\")"
   ]
  },
  {
   "cell_type": "markdown",
   "id": "d16a33e5",
   "metadata": {},
   "source": []
  },
  {
   "cell_type": "code",
   "execution_count": 12,
   "id": "8986be01",
   "metadata": {},
   "outputs": [
    {
     "name": "stderr",
     "output_type": "stream",
     "text": [
      "model.safetensors: 100%|██████████| 379M/379M [00:16<00:00, 23.6MB/s]]\n"
     ]
    },
    {
     "data": {
      "text/plain": [
       "CommitInfo(commit_url='https://huggingface.co/Wataru/sfi_w2v2_distill_ears/commit/412d19629bcb59d0c29696ea270994082056a264', commit_message='Upload model', commit_description='', oid='412d19629bcb59d0c29696ea270994082056a264', pr_url=None, repo_url=RepoUrl('https://huggingface.co/Wataru/sfi_w2v2_distill_ears', endpoint='https://huggingface.co', repo_type='model', repo_id='Wataru/sfi_w2v2_distill_ears'), pr_revision=None, pr_num=None)"
      ]
     },
     "execution_count": 12,
     "metadata": {},
     "output_type": "execute_result"
    }
   ],
   "source": [
    "model = DistillSSL.load_from_checkpoint(\n",
    "    \"/work/gj18/e43001/github.com/sfi-utmos/lightning_logs/version_19/checkpoints/epoch=101-step=197778.ckpt\"\n",
    ")\n",
    "model.student_model.set_sample_rate(24000)\n",
    "model.student_model.push_to_hub(\"Wataru/sfi_w2v2_distill_ears\")"
   ]
  },
  {
   "cell_type": "code",
   "execution_count": 13,
   "id": "5958ba1a",
   "metadata": {},
   "outputs": [
    {
     "name": "stderr",
     "output_type": "stream",
     "text": [
      "model.safetensors: 100%|██████████| 379M/379M [00:12<00:00, 31.2MB/s]\n"
     ]
    },
    {
     "data": {
      "text/plain": [
       "CommitInfo(commit_url='https://huggingface.co/Wataru/sfi_wavlm_distill_ears/commit/ea24b0dc36a257315461536685b52e18e628134c', commit_message='Upload model', commit_description='', oid='ea24b0dc36a257315461536685b52e18e628134c', pr_url=None, repo_url=RepoUrl('https://huggingface.co/Wataru/sfi_wavlm_distill_ears', endpoint='https://huggingface.co', repo_type='model', repo_id='Wataru/sfi_wavlm_distill_ears'), pr_revision=None, pr_num=None)"
      ]
     },
     "execution_count": 13,
     "metadata": {},
     "output_type": "execute_result"
    }
   ],
   "source": [
    "model = DistillSSL.load_from_checkpoint(\n",
    "    \"/work/gj18/e43001/github.com/sfi-utmos/lightning_logs/version_20/checkpoints/epoch=96-step=188083.ckpt\"\n",
    ")\n",
    "model.student_model.set_sample_rate(24000)\n",
    "model.student_model.push_to_hub(\"Wataru/sfi_wavlm_distill_ears\")"
   ]
  },
  {
   "cell_type": "code",
   "execution_count": null,
   "id": "125e512a",
   "metadata": {},
   "outputs": [],
   "source": []
  }
 ],
 "metadata": {
  "kernelspec": {
   "display_name": ".venv",
   "language": "python",
   "name": "python3"
  },
  "language_info": {
   "codemirror_mode": {
    "name": "ipython",
    "version": 3
   },
   "file_extension": ".py",
   "mimetype": "text/x-python",
   "name": "python",
   "nbconvert_exporter": "python",
   "pygments_lexer": "ipython3",
   "version": "3.12.8"
  }
 },
 "nbformat": 4,
 "nbformat_minor": 5
}
